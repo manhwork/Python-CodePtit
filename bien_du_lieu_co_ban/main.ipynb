{
 "cells": [
  {
   "cell_type": "code",
   "execution_count": 12,
   "metadata": {},
   "outputs": [],
   "source": [
    "# \t# PY01005\n",
    "# from math import *\n",
    "# s = input()\n",
    "# num4 = [x for x in s if x == '4']\n",
    "# num7 = [x for x in s if x == '7']\n",
    "# print(\"YES\" if (len(num4) + len(num7) == 4 ) or (len(num4) + len(num7) == 7 ) else \"NO\")\n"
   ]
  },
  {
   "cell_type": "code",
   "execution_count": 1,
   "metadata": {},
   "outputs": [
    {
     "name": "stdout",
     "output_type": "stream",
     "text": [
      "7\n"
     ]
    }
   ],
   "source": [
    "# import math\n",
    "\n",
    "\n",
    "# for t in range(int(input())):\n",
    "#     n, x, m = [float(i) for i in input().split()]\n",
    "#     res = math.log(m / n, 1 + x / 100)\n",
    "#     print(math.ceil(res))"
   ]
  },
  {
   "cell_type": "code",
   "execution_count": 2,
   "metadata": {},
   "outputs": [
    {
     "name": "stdout",
     "output_type": "stream",
     "text": [
      "MON\n"
     ]
    }
   ],
   "source": [
    "# s = input()\n",
    "# print(s.upper())"
   ]
  },
  {
   "cell_type": "code",
   "execution_count": 4,
   "metadata": {},
   "outputs": [
    {
     "name": "stdout",
     "output_type": "stream",
     "text": [
      "viethoa\n"
     ]
    }
   ],
   "source": [
    "# s = input()\n",
    "\n",
    "# chuHoa = len([x for x in s if x.isupper()])\n",
    "# chuThuong = len(s) - chuHoa\n",
    "\n",
    "# print( s.upper() if chuHoa > chuThuong else s.lower())\n",
    "\n"
   ]
  },
  {
   "cell_type": "code",
   "execution_count": 5,
   "metadata": {},
   "outputs": [
    {
     "name": "stdout",
     "output_type": "stream",
     "text": [
      "NO\n",
      "YES\n"
     ]
    }
   ],
   "source": [
    "# t = int(input())\n",
    "\n",
    "# for _ in range(t):\n",
    "#     s = input()\n",
    "#     s1 = s[:2]\n",
    "#     s2 = s[len(s)-2:]\n",
    "#     print(\"YES\" if s1 == s2 else \"NO\")"
   ]
  },
  {
   "cell_type": "code",
   "execution_count": 13,
   "metadata": {},
   "outputs": [
    {
     "name": "stdout",
     "output_type": "stream",
     "text": [
      "\n",
      "\n"
     ]
    }
   ],
   "source": [
    "# def check(n):\n",
    "#     s = str(n)\n",
    "#     if len(s) % 2 == 0 and s != s[::-1] :\n",
    "#         return False\n",
    "#     for x in s : \n",
    "#         if int(x) % 2 != 1 :\n",
    "#             return False\n",
    "#     return True\n",
    "\n",
    "\n",
    "# for t in range(int(input())):\n",
    "#     n = int(input())\n",
    "#     for i in range(22,n,2):\n",
    "#         if(check(i) ):\n",
    "#             print(i, end=\" \")\n",
    "#     print()\n"
   ]
  },
  {
   "cell_type": "code",
   "execution_count": 15,
   "metadata": {},
   "outputs": [
    {
     "name": "stdout",
     "output_type": "stream",
     "text": [
      "YES\n"
     ]
    }
   ],
   "source": [
    "# from math import *\n",
    "\n",
    "# def snt(n):\n",
    "#     for i in range(2,isqrt(n) + 1):\n",
    "#         if n % i == 0 :\n",
    "#             return False\n",
    "#     return n > 1\n",
    "\n",
    "# def check(n):\n",
    "#     s = str(n)\n",
    "#     sum = 0\n",
    "#     for x in s : \n",
    "#         sum += int(x)\n",
    "#     if snt(sum):\n",
    "#         return True\n",
    "#     else : \n",
    "#         return False\n",
    "\n",
    "# for t in range(int(input())):\n",
    "#     a,b = map(int,input().split())\n",
    "#     print(\"YES\" if check(gcd(a, b)) else \"NO\")\n",
    "\n",
    "\n"
   ]
  },
  {
   "cell_type": "code",
   "execution_count": 16,
   "metadata": {},
   "outputs": [
    {
     "name": "stdout",
     "output_type": "stream",
     "text": [
      "-1\n"
     ]
    }
   ],
   "source": [
    "# a, k, n = [int(i) for i in input().split()]\n",
    "# bMin = (int(a / k) + 1) * k - a\n",
    "# bMax = int(n / k) * k - a\n",
    "# if bMin <= bMax:\n",
    "#     for i in range(bMin, bMax + 1, k):\n",
    "#         print(i, end=' ')\n",
    "# else:\n",
    "#     print(-1)"
   ]
  },
  {
   "cell_type": "code",
   "execution_count": 17,
   "metadata": {},
   "outputs": [
    {
     "name": "stdout",
     "output_type": "stream",
     "text": [
      "YES\n"
     ]
    }
   ],
   "source": [
    "# def check(s):\n",
    "#     for i in range(len(s) - 1) :\n",
    "#         if s[i] > s[i+1]: \n",
    "#             return False\n",
    "#     return True\n",
    "\n",
    "# for t in range(int(input())) :\n",
    "#     s = input()\n",
    "#     print(\"YES\" if check(s) else \"NO\")\n"
   ]
  },
  {
   "cell_type": "code",
   "execution_count": 8,
   "metadata": {},
   "outputs": [
    {
     "name": "stdout",
     "output_type": "stream",
     "text": [
      "aaaaaaaa\n",
      "AAECCCCGGGD\n"
     ]
    }
   ],
   "source": [
    "# t = int(input())\n",
    "\n",
    "\n",
    "# for _ in range(t):\n",
    "#     s = input()\n",
    "#     result = \"\"\n",
    "#     for i in range(0,len(s),2) :\n",
    "#         result += s[i] * int(s[i+1])\n",
    "#     print(result)\n"
   ]
  },
  {
   "cell_type": "code",
   "execution_count": 2,
   "metadata": {},
   "outputs": [
    {
     "name": "stdout",
     "output_type": "stream",
     "text": [
      "22 \n",
      "22 44 66 88 \n"
     ]
    }
   ],
   "source": [
    "def check(n):\n",
    "    s = str(n)\n",
    "    if len(s) % 2 == 0 and s != s[::-1] :\n",
    "        return False\n",
    "    for x in s : \n",
    "        if int(x) % 2 == 1 :\n",
    "            return False\n",
    "    return True\n",
    "\n",
    "\n",
    "for t in range(int(input())):\n",
    "    n = int(input())\n",
    "    for i in range(22,n,2):\n",
    "        if(check(i) ):\n",
    "            print(i, end=\" \")\n",
    "    print()\n"
   ]
  },
  {
   "cell_type": "code",
   "execution_count": null,
   "metadata": {},
   "outputs": [],
   "source": []
  }
 ],
 "metadata": {
  "kernelspec": {
   "display_name": "Python 3",
   "language": "python",
   "name": "python3"
  },
  "language_info": {
   "codemirror_mode": {
    "name": "ipython",
    "version": 3
   },
   "file_extension": ".py",
   "mimetype": "text/x-python",
   "name": "python",
   "nbconvert_exporter": "python",
   "pygments_lexer": "ipython3",
   "version": "3.12.4"
  }
 },
 "nbformat": 4,
 "nbformat_minor": 2
}
